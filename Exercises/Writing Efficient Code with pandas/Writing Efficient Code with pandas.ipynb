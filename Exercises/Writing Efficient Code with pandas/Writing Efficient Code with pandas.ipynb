{
 "cells": [
  {
   "attachments": {},
   "cell_type": "markdown",
   "metadata": {},
   "source": [
    "# Writing Efficient Code with pandas"
   ]
  },
  {
   "cell_type": "code",
   "execution_count": 7,
   "metadata": {},
   "outputs": [],
   "source": [
    "# Importação das bibliotecas\n",
    "\n",
    "import time\n",
    "import numpy as np\n",
    "import pandas as pd\n",
    "\n",
    "import warnings\n",
    "warnings.filterwarnings('ignore')"
   ]
  },
  {
   "attachments": {},
   "cell_type": "markdown",
   "metadata": {},
   "source": [
    "**Question: What does the time.time() function exactly measure?** The time since a predefined date and time set by the operating system."
   ]
  },
  {
   "attachments": {},
   "cell_type": "markdown",
   "metadata": {},
   "source": [
    "**Row selection: loc[] vs iloc[]**\n",
    "\n",
    "A big part of working with DataFrames is to locate specific entries in the dataset. You can locate rows in two ways:\n",
    "\n",
    "    · By a specific value of a column (feature);\n",
    "    · By the index of the rows (index). In this exercise, we will focus on the second way.\n",
    "\n",
    "If you have previous experience with pandas, you should be familiar with the .loc and .iloc indexers, which stands for 'location' and 'index location' respectively. In most cases, the indices will be the same as the position of each row in the Dataframe (e.g. the row with index 13 will be the 14th entry).\n",
    "\n",
    "While we can use both functions to perform the same task, we are interested in which is the most efficient in terms of speed.\n",
    "\n",
    "    · Store the indices of the first 1000 rows in the row_nums;\n",
    "    · Use the .loc[] indexer to select the first 1000 rows of poker_hands, and record the times before and after that operation;\n",
    "    · Print the time it took to select the rows;\n",
    "    · Use the .iloc[] indexer with row_nums to select the first 1000 rows of the DataFrame poker_hands, and print how much time it took (as the difference between the time after the selection and the time before the selection)."
   ]
  },
  {
   "cell_type": "code",
   "execution_count": 2,
   "metadata": {},
   "outputs": [
    {
     "name": "stdout",
     "output_type": "stream",
     "text": [
      "Time using .loc[]: 0.007962703704833984 sec\n",
      "Time using .iloc[]: 0.0 sec\n"
     ]
    }
   ],
   "source": [
    "poker_hands = pd.read_csv(r'C:\\Users\\ana_c\\OneDrive\\Documentos\\GitHub\\DataCamp\\Exercises\\Writing Efficient Code with pandas\\Files\\poker_hand.csv')\n",
    "\n",
    "# Define the range of rows to select: row_nums\n",
    "row_nums = range(0, 1000)\n",
    "\n",
    "# Select the rows using .loc[] and row_nums and record the time before and after\n",
    "loc_start_time = time.time()\n",
    "rows = poker_hands.loc[row_nums]\n",
    "loc_end_time = time.time()\n",
    "\n",
    "# Print the time it took to select the rows using .loc\n",
    "print(\"Time using .loc[]: {} sec\".format(loc_end_time - loc_start_time))\n",
    "\n",
    "# Select the rows using .iloc[] and row_nums and record the time before and after\n",
    "iloc_start_time = time.time()\n",
    "rows = poker_hands.iloc[row_nums]\n",
    "iloc_end_time = time.time()\n",
    "\n",
    "# Print the time it took to select the rows using .iloc\n",
    "print(\"Time using .iloc[]: {} sec\".format(iloc_end_time - iloc_start_time))"
   ]
  },
  {
   "attachments": {},
   "cell_type": "markdown",
   "metadata": {},
   "source": [
    "**Question: If you need to select specific rows of a DataFrame, which function is more efficient, it terms of speed?** .iloc[]"
   ]
  },
  {
   "attachments": {},
   "cell_type": "markdown",
   "metadata": {},
   "source": [
    "**Column selection: .iloc[] vs by name**\n",
    "\n",
    "In the previous exercise, you saw how the .loc[] and .iloc[] functions can be used to locate specific rows of a DataFrame (based on the index). Turns out, the .iloc[] function performs a lot faster (~ 2 times) for this task!\n",
    "\n",
    "Another important task is to find the faster function to select the targeted features (columns) of a DataFrame. In this exercise, we will compare the following:\n",
    "\n",
    "    · using the index locator .iloc();\n",
    "    · using the names of the columns While we can use both functions to perform the same task, we are interested in which is the most efficient in terms of speed.\n",
    "\n",
    "In this exercise, you will continue working with the poker data which is stored in poker_hands. Take a second to examine the structure of this DataFrame by calling poker_hands.head() in the console!\n",
    "\n",
    "    · Use the .iloc indexer to select the first, fourth, fifth, seventh and eighth column ('S1', 'R2', 'S3', 'S4', 'R4') of the DataFrame poker_hands by their index and find the time it took;\n",
    "    · Select the first, third, fourth, sixth and seventh column ('S1', 'S2', 'R2', 'R3', 'S4') of the DataFrame poker_hands by their names and time this operation."
   ]
  },
  {
   "cell_type": "code",
   "execution_count": 10,
   "metadata": {},
   "outputs": [
    {
     "name": "stdout",
     "output_type": "stream",
     "text": [
      "Time using .iloc[]: 0.0010001659393310547 sec\n",
      "Time using selection by name: 0.000997781753540039 sec\n"
     ]
    }
   ],
   "source": [
    "# Use .iloc to select the first, fourth, fifth, seventh and eighth column and record the times before and after\n",
    "iloc_start_time = time.time()\n",
    "cols = poker_hands.iloc[:,[0,3,4,6,7]]\n",
    "iloc_end_time = time.time()\n",
    "\n",
    "# Print the time it took\n",
    "print(\"Time using .iloc[]: {} sec\".format(iloc_end_time - iloc_start_time))\n",
    "\n",
    "# Use simple column selection to select the first, fourth, fifth, seventh and eighth column and record the times before and after\n",
    "names_start_time = time.time()\n",
    "cols = poker_hands[['S1', 'S2', 'R2', 'R3', 'S4']]\n",
    "names_end_time = time.time()\n",
    "\n",
    "# Print the time it took\n",
    "print(\"Time using selection by name: {} sec\".format(names_end_time - names_start_time))"
   ]
  },
  {
   "attachments": {},
   "cell_type": "markdown",
   "metadata": {},
   "source": [
    "**Question: If you need to select a specific column (or columns) of a DataFrame, which function is more efficient, it terms of speed?** Simple columns selection"
   ]
  },
  {
   "attachments": {},
   "cell_type": "markdown",
   "metadata": {},
   "source": [
    "**Random row selection**\n",
    "\n",
    "In this exercise, you will compare the two methods described for selecting random rows (entries) with replacement in a pandas DataFrame:\n",
    "\n",
    "    · The built-in pandas function .random();\n",
    "    · The NumPy random integer number generator np.random.randint().\n",
    "\n",
    "Generally, in the fields of statistics and machine learning, when we need to train an algorithm, we train the algorithm on the 75% of the available data and then test the performance on the remaining 25% of the data.\n",
    "\n",
    "For this exercise, we will randomly sample the 75% percent of all the played poker hands available, using each of the above methods, and check which method is more efficient in terms of speed.\n",
    "\n",
    "    · Randomly select 75% of the rows of the poker dataset using the np.random.randint() method;\n",
    "    · Randomly select 75% of the rows of the poker dataset using the .sample() method. Make sure to specify the axis correctly!."
   ]
  },
  {
   "cell_type": "code",
   "execution_count": 12,
   "metadata": {},
   "outputs": [
    {
     "name": "stdout",
     "output_type": "stream",
     "text": [
      "Time using Numpy: 0.0054438114166259766 sec\n",
      "Time using .sample: 0.0020101070404052734 sec\n"
     ]
    }
   ],
   "source": [
    "# Extract number of rows in dataset\n",
    "N=poker_hands.shape[0]\n",
    "\n",
    "# Select and time the selection of the 75% of the dataset's rows\n",
    "rand_start_time = time.time()\n",
    "poker_hands.iloc[np.random.randint(low=0, high=N, size=int(0.75 * N))]\n",
    "print(\"Time using Numpy: {} sec\".format(time.time() - rand_start_time))\n",
    "\n",
    "# Select and time the selection of the 75% of the dataset's rows using sample()\n",
    "samp_start_time = time.time()\n",
    "poker_hands.sample(int(0.75 * N), axis=0, replace = True)\n",
    "print(\"Time using .sample: {} sec\".format(time.time() - samp_start_time))"
   ]
  },
  {
   "attachments": {},
   "cell_type": "markdown",
   "metadata": {},
   "source": [
    "**Question: Between np.random.randint() and .sample(), which one is faster when selecting random rows from a pandas DataFrame?** .sample() "
   ]
  },
  {
   "attachments": {},
   "cell_type": "markdown",
   "metadata": {},
   "source": [
    "**Random column selection**\n",
    "\n",
    "In the previous exercise, we examined two ways to select random rows from a pandas DataFrame. We can use the same functions to randomly select columns in a pandas DataFrame.\n",
    "\n",
    "To randomly select 4 columns out of the poker dataset, you will use the following two functions:\n",
    "\n",
    "    · The built-in pandas function .sample();\n",
    "    · The NumPy random integer number generator np.random.randint().\n",
    "\n",
    "Exercises:\n",
    "\n",
    "    · Randomly select 4 columns from the poker_hands dataset using np.random.randint();\n",
    "    · Randomly select 4 columns from the poker_hands dataset using the .sample() method."
   ]
  },
  {
   "cell_type": "code",
   "execution_count": 13,
   "metadata": {},
   "outputs": [
    {
     "name": "stdout",
     "output_type": "stream",
     "text": [
      "Time using NymPy's random.randint(): 0.0019996166229248047 sec\n",
      "Time using panda's .sample(): 0.0010077953338623047 sec\n"
     ]
    }
   ],
   "source": [
    "# Extract number of columns in dataset\n",
    "D=poker_hands.shape[1]\n",
    "\n",
    "# Select and time the selection of 4 of the dataset's columns using NumPy\n",
    "np_start_time = time.time()\n",
    "poker_hands.iloc[:,np.random.randint(low=0, high=D, size=4)]\n",
    "print(\"Time using NymPy's random.randint(): {} sec\".format(time.time() - np_start_time))\n",
    "\n",
    "# Select and time the selection of 4 of the dataset's columns using pandas\n",
    "pd_start_time = time.time()\n",
    "poker_hands.sample(4, axis=1)\n",
    "print(\"Time using panda's .sample(): {} sec\".format(time.time() - pd_start_time))"
   ]
  },
  {
   "attachments": {},
   "cell_type": "markdown",
   "metadata": {},
   "source": [
    "**Question: Between np.random.randint() and .sample(), which one is faster when selecting random columns from a pandas DataFrame?** .sample()"
   ]
  },
  {
   "attachments": {},
   "cell_type": "markdown",
   "metadata": {},
   "source": [
    "**Replacing scalar values I**\n",
    "\n",
    "In this exercise, we will replace a list of values in our dataset by using the .replace() method with another list of desired values.\n",
    "\n",
    "We will apply the functions in the poker_hands DataFrame. Remember that in the poker_hands DataFrame, each row of columns R1 to R5 represents the rank of each card from a player's poker hand spanning from 1 (Ace) to 13 (King). The Class feature classifies each hand as a category, and the Explanation feature briefly explains each hand.\n",
    "\n",
    "    · Replace every hand (row) of the DataFrame listed as Class 1 (One Pair) to -2 and each hand listed as Class 2 (Two Pairs) to -3."
   ]
  },
  {
   "cell_type": "code",
   "execution_count": 4,
   "metadata": {},
   "outputs": [
    {
     "name": "stdout",
     "output_type": "stream",
     "text": [
      "       Class\n",
      "0          9\n",
      "1          9\n",
      "2          9\n",
      "3          9\n",
      "4          9\n",
      "...      ...\n",
      "25005      0\n",
      "25006     -2\n",
      "25007     -2\n",
      "25008     -2\n",
      "25009     -2\n",
      "\n",
      "[25010 rows x 1 columns]\n"
     ]
    }
   ],
   "source": [
    "# Replace Class 1 to -2 \n",
    "poker_hands['Class'].replace(1, -2, inplace=True)\n",
    "# Replace Class 2 to -3\n",
    "poker_hands['Class'].replace(2, -3, inplace=True)\n",
    "\n",
    "print(poker_hands[['Class']])"
   ]
  },
  {
   "attachments": {},
   "cell_type": "markdown",
   "metadata": {},
   "source": [
    "**Replace scalar values II**\n",
    "\n",
    "As discussed in the video, in a pandas DataFrame, it is possible to replace values in a very intuitive way: we locate the position (row and column) in the Dataframe and assign in the new value you want to replace with. In a more pandas-ian way, the .replace() function is available that performs the same task.\n",
    "\n",
    "You will be using the names DataFrame which includes, among others, the most popular names in the US by year, gender and ethnicity.\n",
    "\n",
    "Your task is to replace all the babies that are classified as FEMALE to GIRL using the following methods:\n",
    "\n",
    "    · intuitive scalar replacement;\n",
    "    · using the .replace() function.\n",
    "\n",
    "Exercise:\n",
    "\n",
    "    · Replace all the babies that are classified as 'FEMALE' to 'GIRL' as described above."
   ]
  },
  {
   "cell_type": "code",
   "execution_count": 13,
   "metadata": {},
   "outputs": [
    {
     "name": "stdout",
     "output_type": "stream",
     "text": [
      "Time using .loc[]: 0.0 sec\n"
     ]
    }
   ],
   "source": [
    "names = pd.read_csv(r'C:\\Users\\ana_c\\OneDrive\\Documentos\\GitHub\\DataCamp\\Exercises\\Writing Efficient Code with pandas\\Files\\popular_baby_names.csv')\n",
    "\n",
    "start_time = time.time()\n",
    "\n",
    "# Replace all the entries that has 'FEMALE' as a gender with 'GIRL'\n",
    "names['Gender'].loc[names.Gender == 'FEMALE'] = 'GIRL'\n",
    "\n",
    "print(\"Time using .loc[]: {} sec\".format(time.time() - start_time))"
   ]
  },
  {
   "attachments": {},
   "cell_type": "markdown",
   "metadata": {},
   "source": [
    "    · Replace all the babies that are classified as 'FEMALE' to 'GIRL' using the .replace() function. Set inplace to True to assign the result back to the original DataFrame."
   ]
  },
  {
   "cell_type": "code",
   "execution_count": 11,
   "metadata": {},
   "outputs": [
    {
     "name": "stdout",
     "output_type": "stream",
     "text": [
      "Time using .replace(): 0.0060045719146728516 sec\n"
     ]
    }
   ],
   "source": [
    "start_time = time.time()\n",
    "\n",
    "# Replace all the entries that has 'FEMALE' as a gender with 'GIRL'\n",
    "names['Gender'].replace('FEMALE', 'GIRL', inplace=True)\n",
    "\n",
    "print(\"Time using .replace(): {} sec\".format(time.time() - start_time))"
   ]
  },
  {
   "attachments": {},
   "cell_type": "markdown",
   "metadata": {},
   "source": [
    "**Question: Which of the two methods presented in the previous exercises is the most efficient when replacing a scalar value?** Using .replace() was faster."
   ]
  },
  {
   "attachments": {},
   "cell_type": "markdown",
   "metadata": {},
   "source": [
    "**Replace multiple values I**\n",
    "\n",
    "In this exercise, you will apply the .replace() function for the task of replacing multiple values with one or more values. You will again use the names dataset which contains, among others, the most popular names in the US by year, gender and Ethnicity.\n",
    "\n",
    "Thus you want to replace all ethnicities classified as black or white non-hispanics to non-hispanic. Remember, the ethnicities are stated in the dataset as follows: ['BLACK NON HISP', 'BLACK NON HISPANIC', 'WHITE NON HISP' , 'WHITE NON HISPANIC'] and should be replaced to 'NON HISPANIC'\n",
    "\n",
    "    · Replace all the ethnicities that are not Hispanic in the dataset to 'NON HISPANIC' using the.loc()` indexer."
   ]
  },
  {
   "cell_type": "code",
   "execution_count": 15,
   "metadata": {},
   "outputs": [
    {
     "name": "stdout",
     "output_type": "stream",
     "text": [
      "Time using .loc[]: sec\n"
     ]
    }
   ],
   "source": [
    "start_time = time.time()\n",
    "\n",
    "# Replace all non-Hispanic ethnicities with 'NON HISPANIC'\n",
    "names['Ethnicity'].loc[(names[\"Ethnicity\"] == 'BLACK NON HISP') | \n",
    "                      (names[\"Ethnicity\"] == 'BLACK NON HISPANIC') | \n",
    "                      (names[\"Ethnicity\"] == 'WHITE NON HISP') | \n",
    "                      (names[\"Ethnicity\"] == 'WHITE NON HISPANIC')] = 'NON HISPANIC'\n",
    "\n",
    "print(\"Time using .loc[]: sec\".format(time.time() - start_time))"
   ]
  },
  {
   "attachments": {},
   "cell_type": "markdown",
   "metadata": {},
   "source": [
    "    · Replace all the ethnicities that are not Hispanic in the dataset to 'NON HISPANIC' using the .replace() function."
   ]
  },
  {
   "cell_type": "code",
   "execution_count": 16,
   "metadata": {},
   "outputs": [
    {
     "name": "stdout",
     "output_type": "stream",
     "text": [
      "Time using .replace(): 0.016257286071777344 sec\n"
     ]
    }
   ],
   "source": [
    "start_time = time.time()\n",
    "\n",
    "# Replace all non-Hispanic ethnicities with 'NON HISPANIC'\n",
    "names['Ethnicity'].replace(['BLACK NON HISP', 'BLACK NON HISPANIC', 'WHITE NON HISP', 'WHITE NON HISPANIC'], 'NON HISPANIC', inplace=True)\n",
    "\n",
    "print(\"Time using .replace(): {} sec\".format(time.time() - start_time))"
   ]
  },
  {
   "attachments": {},
   "cell_type": "markdown",
   "metadata": {},
   "source": [
    "**Replace scalar values II**\n",
    "\n",
    "As discussed in the video, instead of using the .replace() function multiple times to replace multiple values, you can use lists to map the elements you want to replace one to one with those you want to replace them with.\n",
    "\n",
    "As you have seen in our popular names dataset, there are two names for the same ethnicity. We want to standardize the naming of each ethnicity by replacing\n",
    "\n",
    "    · 'ASIAN AND PACI' to 'ASIAN AND PACIFIC ISLANDER';\n",
    "    · 'BLACK NON HISP' to 'BLACK NON HISPANIC';\n",
    "    · 'WHITE NON HISP' to 'WHITE NON HISPANIC'.\n",
    "\n",
    "In the DataFrame names, you are going to replace all the values on the left by the values on the right.\n",
    "\n",
    "    · Replace all the ethnicities by their respective alternative, as indicated above."
   ]
  },
  {
   "cell_type": "code",
   "execution_count": 17,
   "metadata": {},
   "outputs": [
    {
     "name": "stdout",
     "output_type": "stream",
     "text": [
      "Time using .replace(): 0.008049964904785156 sec\n"
     ]
    }
   ],
   "source": [
    "start_time = time.time()\n",
    "\n",
    "# Replace ethnicities as instructed\n",
    "names['Ethnicity'].replace(['ASIAN AND PACI','BLACK NON HISP', 'WHITE NON HISP'], ['ASIAN AND PACIFIC ISLANDER','BLACK NON HISPANIC','WHITE NON HISPANIC'], inplace=True)\n",
    "\n",
    "print(\"Time using .replace(): {} sec\".format(time.time() - start_time))"
   ]
  }
 ],
 "metadata": {
  "kernelspec": {
   "display_name": "Python 3",
   "language": "python",
   "name": "python3"
  },
  "language_info": {
   "codemirror_mode": {
    "name": "ipython",
    "version": 3
   },
   "file_extension": ".py",
   "mimetype": "text/x-python",
   "name": "python",
   "nbconvert_exporter": "python",
   "pygments_lexer": "ipython3",
   "version": "3.10.10"
  },
  "orig_nbformat": 4,
  "vscode": {
   "interpreter": {
    "hash": "32f44e5226166f64a99f12abc75713261d80cda518a4c0307f40d5fa964d05f6"
   }
  }
 },
 "nbformat": 4,
 "nbformat_minor": 2
}
