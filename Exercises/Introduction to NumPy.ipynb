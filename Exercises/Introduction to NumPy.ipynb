{
 "cells": [
  {
   "cell_type": "markdown",
   "id": "785a7411",
   "metadata": {},
   "source": [
    "# Understanding NumPy Arrays"
   ]
  },
  {
   "cell_type": "markdown",
   "id": "a7cfd486",
   "metadata": {},
   "source": [
    "Once you're comfortable with NumPy, you'll find yourself converting Python lists into NumPy arrays all the time for increased speed and access to NumPy's excellent array methods. You're going to change sudoku_list into a NumPy array so you can practice with it in later lessons, for example by creating a 4D array of sudoku games along with their solutions!"
   ]
  },
  {
   "cell_type": "code",
   "execution_count": 2,
   "id": "7ec60ed1",
   "metadata": {},
   "outputs": [],
   "source": [
    "  sudoku_list = [[0, 0, 4, 3, 0, 0, 2, 0, 9],\n",
    "                 [0, 0, 5, 0, 0, 9, 0, 0, 1],\n",
    "                 [0, 7, 0, 0, 6, 0, 0, 4, 3],\n",
    "                 [0, 0, 6, 0, 0, 2, 0, 8, 7],\n",
    "                 [1, 9, 0, 0, 0, 7, 4, 0, 0],\n",
    "                 [0, 5, 0, 0, 8, 3, 0, 0, 0],\n",
    "                 [6, 0, 0, 0, 0, 0, 1, 0, 5],\n",
    "                 [0, 0, 3, 5, 0, 8, 6, 9, 0],\n",
    "                 [0, 4, 2, 9, 1, 0, 3, 0, 0]]"
   ]
  },
  {
   "cell_type": "markdown",
   "id": "3a39d8e2",
   "metadata": {},
   "source": [
    "· Import NumPy using its generally accepted alias;  \n",
    "· Convert sudoku_list into a NumPy array called sudoku_array;   \n",
    "· Print the class type() of sudoku_array to check that your code has worked properly.   "
   ]
  },
  {
   "cell_type": "code",
   "execution_count": 3,
   "id": "c52d9156",
   "metadata": {},
   "outputs": [
    {
     "name": "stdout",
     "output_type": "stream",
     "text": [
      "<class 'numpy.ndarray'>\n"
     ]
    }
   ],
   "source": [
    "# Import NumPy\n",
    "import numpy as np\n",
    "\n",
    "# Convert sudoku_list into an array\n",
    "sudoku_array = np.array(sudoku_list)\n",
    "\n",
    "# Print the type of sudoku_array \n",
    "print(type(sudoku_array))"
   ]
  },
  {
   "cell_type": "markdown",
   "id": "49d6f29f",
   "metadata": {},
   "source": [
    "It can be helpful to know how to create quick NumPy arrays from scratch in order to test your code. For example, when you are doing math with large multi-dimensional arrays, it's nice to check whether the math works as expected on small test arrays before applying your code to the larger arrays. NumPy has many options for creating smaller synthetic arrays."
   ]
  },
  {
   "cell_type": "markdown",
   "id": "e755c966",
   "metadata": {},
   "source": [
    "· Create and print an array filled with zeros called zero_array, which has two rows and four columns;   \n",
    "· Create and print an array of random floats between 0 and 1 called random_array, which has three rows and six columns."
   ]
  },
  {
   "cell_type": "code",
   "execution_count": 4,
   "id": "3e7a265f",
   "metadata": {},
   "outputs": [
    {
     "name": "stdout",
     "output_type": "stream",
     "text": [
      "[[0. 0. 0. 0.]\n",
      " [0. 0. 0. 0.]]\n",
      "[[0.03415878 0.05596156 0.48519647 0.45762547 0.84414672 0.6194739 ]\n",
      " [0.6284527  0.97292024 0.91505894 0.99443975 0.00465395 0.21544694]\n",
      " [0.3749953  0.42748815 0.36353772 0.82724918 0.5736618  0.55320095]]\n"
     ]
    }
   ],
   "source": [
    "# Create an array of zeros which has four columns and two rows\n",
    "zero_array = np.zeros((2, 4))\n",
    "print(zero_array)\n",
    "\n",
    "# Create an array of random floats which has six columns and three rows\n",
    "random_array = np.random.random((3, 6))\n",
    "print(random_array)\n"
   ]
  },
  {
   "cell_type": "markdown",
   "id": "43c12bce",
   "metadata": {},
   "source": [
    "np.arange() has especially useful applications in graphing. Your task is to create a scatter plot with the values from doubling_array on the y-axis."
   ]
  },
  {
   "cell_type": "code",
   "execution_count": 5,
   "id": "4fbd0d68",
   "metadata": {},
   "outputs": [],
   "source": [
    "doubling_array = [1, 2, 4, 8, 16, 32, 64, 128, 256, 512]"
   ]
  },
  {
   "cell_type": "markdown",
   "id": "55e843fc",
   "metadata": {},
   "source": [
    "· Using np.arange(), create a 1D array called one_to_ten which holds all integers from one to ten (inclusive);  \n",
    "· Create a scatterplot with doubling_array as the y values and one_to_ten as the x values."
   ]
  },
  {
   "cell_type": "code",
   "execution_count": 6,
   "id": "2db5e661",
   "metadata": {},
   "outputs": [
    {
     "data": {
      "image/png": "[encoded data removed]",
      "text/plain": [
       "<Figure size 432x288 with 1 Axes>"
      ]
     },
     "metadata": {
      "needs_background": "light"
     },
     "output_type": "display_data"
    }
   ],
   "source": [
    "# Create an array of integers from one to ten\n",
    "import numpy as np\n",
    "import matplotlib.pyplot as plt\n",
    "one_to_ten = np.arange(1, 11)\n",
    "\n",
    "# Create your scatterplot\n",
    "plt.scatter(one_to_ten, doubling_array)\n",
    "plt.show()"
   ]
  },
  {
   "cell_type": "markdown",
   "id": "18ae9127",
   "metadata": {},
   "source": [
    "In the first lesson, you created a sudoku_game two-dimensional NumPy array. Perhaps you have hundreds of sudoku game arrays, and you'd like to save the solution for this one, sudoku_solution, as part of the same array as its corresponding game in order to organize your sudoku data better. You could accomplish this by stacking the two 2D arrays on top of each other to create a 3D array."
   ]
  },
  {
   "cell_type": "code",
   "execution_count": 7,
   "id": "9cb7a48a",
   "metadata": {},
   "outputs": [],
   "source": [
    "sudoku_game = [[0, 0, 5, 0, 0, 9, 0, 0, 1], \n",
    "               [0, 7, 0, 0, 6, 0, 0, 4, 3], \n",
    "               [0, 0, 6, 0, 0, 2, 0, 8, 7], \n",
    "               [1, 9, 0, 0, 0, 7, 4, 0, 0], \n",
    "               [0, 5, 0, 0, 8, 3, 0, 0, 0], \n",
    "               [6, 0, 0, 0, 0, 0, 1, 0, 5], \n",
    "               [0, 0, 3, 5, 0, 8, 6, 9, 0], \n",
    "               [0, 4, 2, 9, 1, 0, 3, 0, 0]]\n",
    "\n",
    "sudoku_solution = [[3, 2, 5, 8, 4, 9, 7, 6, 1], \n",
    "                   [9, 7, 1, 2, 6, 5, 8, 4, 3], \n",
    "                   [4, 3, 6, 1, 9, 2, 5, 8, 7], \n",
    "                   [1, 9, 8, 6, 5, 7, 4, 3, 2], \n",
    "                   [2, 5, 7, 4, 8, 3, 9, 1, 6], \n",
    "                   [6, 8, 9, 7, 3, 4, 1, 2, 5], \n",
    "                   [7, 1, 3, 5, 2, 8, 6, 9, 4], \n",
    "                   [5, 4, 2, 9, 1, 6, 3, 7, 8]] "
   ]
  },
  {
   "cell_type": "markdown",
   "id": "f724c0de",
   "metadata": {},
   "source": [
    "· Create a 3D array called game_and_solution by stacking the two 2D arrays, sudoku_game and sudoku_solution, on top of one another; in the final array, sudoku_game should appear before sudoku_solution;   \n",
    "· Print game_and_solution."
   ]
  },
  {
   "cell_type": "code",
   "execution_count": 8,
   "id": "9cdb509a",
   "metadata": {},
   "outputs": [
    {
     "name": "stdout",
     "output_type": "stream",
     "text": [
      "[[[0 0 5 0 0 9 0 0 1]\n",
      "  [0 7 0 0 6 0 0 4 3]\n",
      "  [0 0 6 0 0 2 0 8 7]\n",
      "  [1 9 0 0 0 7 4 0 0]\n",
      "  [0 5 0 0 8 3 0 0 0]\n",
      "  [6 0 0 0 0 0 1 0 5]\n",
      "  [0 0 3 5 0 8 6 9 0]\n",
      "  [0 4 2 9 1 0 3 0 0]]\n",
      "\n",
      " [[3 2 5 8 4 9 7 6 1]\n",
      "  [9 7 1 2 6 5 8 4 3]\n",
      "  [4 3 6 1 9 2 5 8 7]\n",
      "  [1 9 8 6 5 7 4 3 2]\n",
      "  [2 5 7 4 8 3 9 1 6]\n",
      "  [6 8 9 7 3 4 1 2 5]\n",
      "  [7 1 3 5 2 8 6 9 4]\n",
      "  [5 4 2 9 1 6 3 7 8]]]\n"
     ]
    }
   ],
   "source": [
    "# Create the game_and_solution 3D array\n",
    "game_and_solution = np.array([sudoku_game, sudoku_solution])\n",
    "\n",
    "# Print game_and_solution\n",
    "print(game_and_solution) "
   ]
  },
  {
   "cell_type": "markdown",
   "id": "4087ce93",
   "metadata": {},
   "source": [
    "Printing arrays is a good way to check code output for small arrays like sudoku_game_and_solution, but it becomes unwieldy when dealing with bigger arrays and those with higher dimensions. Another important check is to look at the array's .shape. Now, you'll create a 4D array that contains two sudoku games and their solutions."
   ]
  },
  {
   "cell_type": "code",
   "execution_count": 9,
   "id": "433a3e49",
   "metadata": {},
   "outputs": [],
   "source": [
    "new_sudoku_game = [[0, 0, 4, 3, 0, 0, 0, 0, 0], \n",
    "                   [8, 9, 0, 2, 0, 0, 6, 7, 0], \n",
    "                   [7, 0, 0, 9, 0, 0, 0, 5, 0],\n",
    "                   [5, 0, 0, 0, 0, 8, 1, 4, 0],\n",
    "                   [0, 7, 0, 0, 3, 2, 0, 6, 0],\n",
    "                   [6, 0, 0, 0, 0, 1, 3, 0, 8],\n",
    "                   [0, 0, 1, 7, 5, 0, 9, 0, 0],\n",
    "                   [0, 0, 5, 0, 4, 0, 0, 1, 2], \n",
    "                   [9, 8, 0, 0, 0, 6, 0, 0, 5]]\n",
    "\n",
    "new_sudoku_solution = [[2, 5, 4, 3, 6, 7, 8, 9, 1],\n",
    "                       [8, 9, 3, 2, 1, 5, 6, 7, 4],\n",
    "                       [7, 1, 6, 9, 8, 4, 2, 5, 3],\n",
    "                       [5, 3, 2, 6, 9, 8, 1, 4, 7],\n",
    "                       [1, 7, 8, 4, 3, 2, 5, 6, 9],\n",
    "                       [6, 4, 9, 5, 7, 1, 3, 2, 8],\n",
    "                       [4, 2, 1, 7, 5, 3, 9, 8, 6],\n",
    "                       [3, 6, 5, 8, 4, 9, 7, 1, 2],\n",
    "                       [9, 8, 7, 1, 2, 6, 4, 3, 5]]"
   ]
  },
  {
   "cell_type": "markdown",
   "id": "dd8d81fd",
   "metadata": {},
   "source": [
    "· Create another 3D array called new_game_and_solution with a different 2D game and 2D solution pair: new_sudoku_game and new_sudoku_solution. new_sudoku_game should appear before new_sudoku_solution;    \n",
    "· Create a 4D array called games_and_solutions by making an array out of the two 3D arrays: game_and_solution and new_game_and_solution, in that order; \n",
    "· Print the shape of games_and_solutions."
   ]
  },
  {
   "cell_type": "code",
   "execution_count": 10,
   "id": "9decc409",
   "metadata": {},
   "outputs": [
    {
     "name": "stderr",
     "output_type": "stream",
     "text": [
      "C:\\Users\\santanc1\\AppData\\Local\\Temp\\ipykernel_17836\\2272548055.py:5: VisibleDeprecationWarning: Creating an ndarray from ragged nested sequences (which is a list-or-tuple of lists-or-tuples-or ndarrays with different lengths or shapes) is deprecated. If you meant to do this, you must specify 'dtype=object' when creating the ndarray.\n",
      "  games_and_solutions = np.array([game_and_solution, new_game_and_solution])\n"
     ]
    },
    {
     "ename": "ValueError",
     "evalue": "could not broadcast input array from shape (2,8,9) into shape (2,)",
     "output_type": "error",
     "traceback": [
      "\u001b[1;31m---------------------------------------------------------------------------\u001b[0m",
      "\u001b[1;31mValueError\u001b[0m                                Traceback (most recent call last)",
      "\u001b[1;32mc:\\Users\\santanc1\\Documents\\FEADEV\\DataCamp\\Exercises\\Introduction to NumPy.ipynb Célula: 20\u001b[0m in \u001b[0;36m<cell line: 5>\u001b[1;34m()\u001b[0m\n\u001b[0;32m      <a href='vscode-notebook-cell:/c%3A/Users/santanc1/Documents/FEADEV/DataCamp/Exercises/Introduction%20to%20NumPy.ipynb#ch0000019?line=1'>2</a>\u001b[0m new_game_and_solution \u001b[39m=\u001b[39m np\u001b[39m.\u001b[39marray([new_sudoku_game, new_sudoku_solution])\n\u001b[0;32m      <a href='vscode-notebook-cell:/c%3A/Users/santanc1/Documents/FEADEV/DataCamp/Exercises/Introduction%20to%20NumPy.ipynb#ch0000019?line=3'>4</a>\u001b[0m \u001b[39m# Create a 4D array of both game and solution 3D arrays\u001b[39;00m\n\u001b[1;32m----> <a href='vscode-notebook-cell:/c%3A/Users/santanc1/Documents/FEADEV/DataCamp/Exercises/Introduction%20to%20NumPy.ipynb#ch0000019?line=4'>5</a>\u001b[0m games_and_solutions \u001b[39m=\u001b[39m np\u001b[39m.\u001b[39;49marray([game_and_solution, new_game_and_solution])\n\u001b[0;32m      <a href='vscode-notebook-cell:/c%3A/Users/santanc1/Documents/FEADEV/DataCamp/Exercises/Introduction%20to%20NumPy.ipynb#ch0000019?line=6'>7</a>\u001b[0m \u001b[39m# Print the shape of your 4D array\u001b[39;00m\n\u001b[0;32m      <a href='vscode-notebook-cell:/c%3A/Users/santanc1/Documents/FEADEV/DataCamp/Exercises/Introduction%20to%20NumPy.ipynb#ch0000019?line=7'>8</a>\u001b[0m \u001b[39mprint\u001b[39m(games_and_solutions\u001b[39m.\u001b[39mshape)\n",
      "\u001b[1;31mValueError\u001b[0m: could not broadcast input array from shape (2,8,9) into shape (2,)"
     ]
    }
   ],
   "source": [
    "# Create a second 3D array of another game and its solution \n",
    "new_game_and_solution = np.array([new_sudoku_game, new_sudoku_solution])\n",
    "\n",
    "# Create a 4D array of both game and solution 3D arrays\n",
    "games_and_solutions = np.array([game_and_solution, new_game_and_solution])\n",
    "\n",
    "# Print the shape of your 4D array\n",
    "print(games_and_solutions.shape)\n"
   ]
  },
  {
   "cell_type": "markdown",
   "id": "1c39a403",
   "metadata": {},
   "source": [
    "# Selecting and Updating Data"
   ]
  },
  {
   "cell_type": "markdown",
   "id": "93489fc6",
   "metadata": {},
   "source": [
    "# Array Mathematics!"
   ]
  },
  {
   "cell_type": "markdown",
   "id": "300057b5",
   "metadata": {},
   "source": [
    "# Array Transformations"
   ]
  }
 ],
 "metadata": {
  "kernelspec": {
   "display_name": "Python 3.10.4 64-bit",
   "language": "python",
   "name": "python3"
  },
  "language_info": {
   "codemirror_mode": {
    "name": "ipython",
    "version": 3
   },
   "file_extension": ".py",
   "mimetype": "text/x-python",
   "name": "python",
   "nbconvert_exporter": "python",
   "pygments_lexer": "ipython3",
   "version": "3.10.4"
  },
  "vscode": {
   "interpreter": {
    "hash": "0255b2a1a85d95e539a3d37cbfeda14c0a475ccd427586120269d64df835fd1d"
   }
  }
 },
 "nbformat": 4,
 "nbformat_minor": 5
}
