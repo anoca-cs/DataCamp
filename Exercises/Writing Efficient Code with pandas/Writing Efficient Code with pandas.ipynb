{
 "cells": [
  {
   "attachments": {},
   "cell_type": "markdown",
   "metadata": {},
   "source": [
    "# Writing Efficient Code with pandas"
   ]
  },
  {
   "cell_type": "code",
   "execution_count": 3,
   "metadata": {},
   "outputs": [],
   "source": [
    "# Importação das bibliotecas\n",
    "\n",
    "import time\n",
    "import numpy as np\n",
    "import pandas as pd\n",
    "\n",
    "import warnings\n",
    "warnings.filterwarnings('ignore')"
   ]
  },
  {
   "attachments": {},
   "cell_type": "markdown",
   "metadata": {},
   "source": [
    "**Question: What does the time.time() function exactly measure?** The time since a predefined date and time set by the operating system."
   ]
  },
  {
   "attachments": {},
   "cell_type": "markdown",
   "metadata": {},
   "source": [
    "**Row selection: loc[] vs iloc[]**\n",
    "\n",
    "A big part of working with DataFrames is to locate specific entries in the dataset. You can locate rows in two ways:\n",
    "\n",
    "    · By a specific value of a column (feature);\n",
    "    · By the index of the rows (index). In this exercise, we will focus on the second way.\n",
    "\n",
    "If you have previous experience with pandas, you should be familiar with the .loc and .iloc indexers, which stands for 'location' and 'index location' respectively. In most cases, the indices will be the same as the position of each row in the Dataframe (e.g. the row with index 13 will be the 14th entry).\n",
    "\n",
    "While we can use both functions to perform the same task, we are interested in which is the most efficient in terms of speed.\n",
    "\n",
    "    · Store the indices of the first 1000 rows in the row_nums;\n",
    "    · Use the .loc[] indexer to select the first 1000 rows of poker_hands, and record the times before and after that operation;\n",
    "    · Print the time it took to select the rows;\n",
    "    · Use the .iloc[] indexer with row_nums to select the first 1000 rows of the DataFrame poker_hands, and print how much time it took (as the difference between the time after the selection and the time before the selection)."
   ]
  },
  {
   "cell_type": "code",
   "execution_count": 7,
   "metadata": {},
   "outputs": [
    {
     "name": "stdout",
     "output_type": "stream",
     "text": [
      "Time using .loc[]: 0.008089542388916016 sec\n",
      "Time using .iloc[]: 0.0 sec\n"
     ]
    }
   ],
   "source": [
    "poker_hands = pd.read_csv(r'C:\\Users\\ana_c\\OneDrive\\Documentos\\GitHub\\DataCamp\\Exercises\\Writing Efficient Code with pandas\\Files\\poker_hand.csv')\n",
    "\n",
    "# Define the range of rows to select: row_nums\n",
    "row_nums = range(0, 1000)\n",
    "\n",
    "# Select the rows using .loc[] and row_nums and record the time before and after\n",
    "loc_start_time = time.time()\n",
    "rows = poker_hands.loc[row_nums]\n",
    "loc_end_time = time.time()\n",
    "\n",
    "# Print the time it took to select the rows using .loc\n",
    "print(\"Time using .loc[]: {} sec\".format(loc_end_time - loc_start_time))\n",
    "\n",
    "# Select the rows using .iloc[] and row_nums and record the time before and after\n",
    "iloc_start_time = time.time()\n",
    "rows = poker_hands.iloc[row_nums]\n",
    "iloc_end_time = time.time()\n",
    "\n",
    "# Print the time it took to select the rows using .iloc\n",
    "print(\"Time using .iloc[]: {} sec\".format(iloc_end_time - iloc_start_time))"
   ]
  },
  {
   "attachments": {},
   "cell_type": "markdown",
   "metadata": {},
   "source": [
    "**Question: If you need to select specific rows of a DataFrame, which function is more efficient, it terms of speed?** .iloc[]"
   ]
  },
  {
   "attachments": {},
   "cell_type": "markdown",
   "metadata": {},
   "source": [
    "**Column selection: .iloc[] vs by name**\n",
    "\n",
    "In the previous exercise, you saw how the .loc[] and .iloc[] functions can be used to locate specific rows of a DataFrame (based on the index). Turns out, the .iloc[] function performs a lot faster (~ 2 times) for this task!\n",
    "\n",
    "Another important task is to find the faster function to select the targeted features (columns) of a DataFrame. In this exercise, we will compare the following:\n",
    "\n",
    "    · using the index locator .iloc();\n",
    "    · using the names of the columns While we can use both functions to perform the same task, we are interested in which is the most efficient in terms of speed.\n",
    "\n",
    "In this exercise, you will continue working with the poker data which is stored in poker_hands. Take a second to examine the structure of this DataFrame by calling poker_hands.head() in the console!\n",
    "\n",
    "    · Use the .iloc indexer to select the first, fourth, fifth, seventh and eighth column ('S1', 'R2', 'S3', 'S4', 'R4') of the DataFrame poker_hands by their index and find the time it took;\n",
    "    · Select the first, third, fourth, sixth and seventh column ('S1', 'S2', 'R2', 'R3', 'S4') of the DataFrame poker_hands by their names and time this operation."
   ]
  },
  {
   "cell_type": "code",
   "execution_count": 10,
   "metadata": {},
   "outputs": [
    {
     "name": "stdout",
     "output_type": "stream",
     "text": [
      "Time using .iloc[]: 0.0010001659393310547 sec\n",
      "Time using selection by name: 0.000997781753540039 sec\n"
     ]
    }
   ],
   "source": [
    "# Use .iloc to select the first, fourth, fifth, seventh and eighth column and record the times before and after\n",
    "iloc_start_time = time.time()\n",
    "cols = poker_hands.iloc[:,[0,3,4,6,7]]\n",
    "iloc_end_time = time.time()\n",
    "\n",
    "# Print the time it took\n",
    "print(\"Time using .iloc[]: {} sec\".format(iloc_end_time - iloc_start_time))\n",
    "\n",
    "# Use simple column selection to select the first, fourth, fifth, seventh and eighth column and record the times before and after\n",
    "names_start_time = time.time()\n",
    "cols = poker_hands[['S1', 'S2', 'R2', 'R3', 'S4']]\n",
    "names_end_time = time.time()\n",
    "\n",
    "# Print the time it took\n",
    "print(\"Time using selection by name: {} sec\".format(names_end_time - names_start_time))"
   ]
  },
  {
   "attachments": {},
   "cell_type": "markdown",
   "metadata": {},
   "source": [
    "**Question: If you need to select a specific column (or columns) of a DataFrame, which function is more efficient, it terms of speed?** Simple columns selection"
   ]
  },
  {
   "attachments": {},
   "cell_type": "markdown",
   "metadata": {},
   "source": [
    "**Random row selection**\n",
    "\n",
    "In this exercise, you will compare the two methods described for selecting random rows (entries) with replacement in a pandas DataFrame:\n",
    "\n",
    "    · The built-in pandas function .random();\n",
    "    · The NumPy random integer number generator np.random.randint().\n",
    "\n",
    "Generally, in the fields of statistics and machine learning, when we need to train an algorithm, we train the algorithm on the 75% of the available data and then test the performance on the remaining 25% of the data.\n",
    "\n",
    "For this exercise, we will randomly sample the 75% percent of all the played poker hands available, using each of the above methods, and check which method is more efficient in terms of speed.\n",
    "\n",
    "    · Randomly select 75% of the rows of the poker dataset using the np.random.randint() method;\n",
    "    · Randomly select 75% of the rows of the poker dataset using the .sample() method. Make sure to specify the axis correctly!."
   ]
  },
  {
   "cell_type": "code",
   "execution_count": 12,
   "metadata": {},
   "outputs": [
    {
     "name": "stdout",
     "output_type": "stream",
     "text": [
      "Time using Numpy: 0.0054438114166259766 sec\n",
      "Time using .sample: 0.0020101070404052734 sec\n"
     ]
    }
   ],
   "source": [
    "# Extract number of rows in dataset\n",
    "N=poker_hands.shape[0]\n",
    "\n",
    "# Select and time the selection of the 75% of the dataset's rows\n",
    "rand_start_time = time.time()\n",
    "poker_hands.iloc[np.random.randint(low=0, high=N, size=int(0.75 * N))]\n",
    "print(\"Time using Numpy: {} sec\".format(time.time() - rand_start_time))\n",
    "\n",
    "# Select and time the selection of the 75% of the dataset's rows using sample()\n",
    "samp_start_time = time.time()\n",
    "poker_hands.sample(int(0.75 * N), axis=0, replace = True)\n",
    "print(\"Time using .sample: {} sec\".format(time.time() - samp_start_time))"
   ]
  },
  {
   "attachments": {},
   "cell_type": "markdown",
   "metadata": {},
   "source": [
    "**Question: Between np.random.randint() and .sample(), which one is faster when selecting random rows from a pandas DataFrame?** .sample() "
   ]
  },
  {
   "attachments": {},
   "cell_type": "markdown",
   "metadata": {},
   "source": [
    "**Random column selection**\n",
    "\n",
    "In the previous exercise, we examined two ways to select random rows from a pandas DataFrame. We can use the same functions to randomly select columns in a pandas DataFrame.\n",
    "\n",
    "To randomly select 4 columns out of the poker dataset, you will use the following two functions:\n",
    "\n",
    "    · The built-in pandas function .sample();\n",
    "    · The NumPy random integer number generator np.random.randint().\n",
    "\n",
    "Exercises:\n",
    "\n",
    "    · Randomly select 4 columns from the poker_hands dataset using np.random.randint();\n",
    "    · Randomly select 4 columns from the poker_hands dataset using the .sample() method."
   ]
  },
  {
   "cell_type": "code",
   "execution_count": 13,
   "metadata": {},
   "outputs": [
    {
     "name": "stdout",
     "output_type": "stream",
     "text": [
      "Time using NymPy's random.randint(): 0.0019996166229248047 sec\n",
      "Time using panda's .sample(): 0.0010077953338623047 sec\n"
     ]
    }
   ],
   "source": [
    "# Extract number of columns in dataset\n",
    "D=poker_hands.shape[1]\n",
    "\n",
    "# Select and time the selection of 4 of the dataset's columns using NumPy\n",
    "np_start_time = time.time()\n",
    "poker_hands.iloc[:,np.random.randint(low=0, high=D, size=4)]\n",
    "print(\"Time using NymPy's random.randint(): {} sec\".format(time.time() - np_start_time))\n",
    "\n",
    "# Select and time the selection of 4 of the dataset's columns using pandas\n",
    "pd_start_time = time.time()\n",
    "poker_hands.sample(4, axis=1)\n",
    "print(\"Time using panda's .sample(): {} sec\".format(time.time() - pd_start_time))"
   ]
  },
  {
   "attachments": {},
   "cell_type": "markdown",
   "metadata": {},
   "source": [
    "**Question: Between np.random.randint() and .sample(), which one is faster when selecting random columns from a pandas DataFrame?** .sample()"
   ]
  },
  {
   "attachments": {},
   "cell_type": "markdown",
   "metadata": {},
   "source": [
    "**Replacing scalar values I**\n",
    "\n",
    "In this exercise, we will replace a list of values in our dataset by using the .replace() method with another list of desired values.\n",
    "\n",
    "We will apply the functions in the poker_hands DataFrame. Remember that in the poker_hands DataFrame, each row of columns R1 to R5 represents the rank of each card from a player's poker hand spanning from 1 (Ace) to 13 (King). The Class feature classifies each hand as a category, and the Explanation feature briefly explains each hand.\n",
    "\n",
    "    · Replace every hand (row) of the DataFrame listed as Class 1 (One Pair) to -2 and each hand listed as Class 2 (Two Pairs) to -3."
   ]
  },
  {
   "cell_type": "code",
   "execution_count": 4,
   "metadata": {},
   "outputs": [
    {
     "name": "stdout",
     "output_type": "stream",
     "text": [
      "       Class\n",
      "0          9\n",
      "1          9\n",
      "2          9\n",
      "3          9\n",
      "4          9\n",
      "...      ...\n",
      "25005      0\n",
      "25006     -2\n",
      "25007     -2\n",
      "25008     -2\n",
      "25009     -2\n",
      "\n",
      "[25010 rows x 1 columns]\n"
     ]
    }
   ],
   "source": [
    "# Replace Class 1 to -2 \n",
    "poker_hands['Class'].replace(1, -2, inplace=True)\n",
    "# Replace Class 2 to -3\n",
    "poker_hands['Class'].replace(2, -3, inplace=True)\n",
    "\n",
    "print(poker_hands[['Class']])"
   ]
  },
  {
   "attachments": {},
   "cell_type": "markdown",
   "metadata": {},
   "source": [
    "**Replace scalar values II**\n",
    "\n",
    "As discussed in the video, in a pandas DataFrame, it is possible to replace values in a very intuitive way: we locate the position (row and column) in the Dataframe and assign in the new value you want to replace with. In a more pandas-ian way, the .replace() function is available that performs the same task.\n",
    "\n",
    "You will be using the names DataFrame which includes, among others, the most popular names in the US by year, gender and ethnicity.\n",
    "\n",
    "Your task is to replace all the babies that are classified as FEMALE to GIRL using the following methods:\n",
    "\n",
    "    · intuitive scalar replacement;\n",
    "    · using the .replace() function.\n",
    "\n",
    "Exercise:\n",
    "\n",
    "    · Replace all the babies that are classified as 'FEMALE' to 'GIRL' as described above."
   ]
  },
  {
   "cell_type": "code",
   "execution_count": 10,
   "metadata": {},
   "outputs": [
    {
     "name": "stdout",
     "output_type": "stream",
     "text": [
      "Time using .loc[]: 0.007923603057861328 sec\n"
     ]
    }
   ],
   "source": [
    "names = pd.read_csv(r'C:\\Users\\ana_c\\OneDrive\\Documentos\\GitHub\\DataCamp\\Exercises\\Writing Efficient Code with pandas\\Files\\popular_baby_names.csv')\n",
    "\n",
    "start_time = time.time()\n",
    "\n",
    "# Replace all the entries that has 'FEMALE' as a gender with 'GIRL'\n",
    "names['Gender'].loc[names.Gender == 'FEMALE'] = 'GIRL'\n",
    "\n",
    "print(\"Time using .loc[]: {} sec\".format(time.time() - start_time))"
   ]
  },
  {
   "attachments": {},
   "cell_type": "markdown",
   "metadata": {},
   "source": [
    "    · Replace all the babies that are classified as 'FEMALE' to 'GIRL' using the .replace() function. Set inplace to True to assign the result back to the original DataFrame."
   ]
  },
  {
   "cell_type": "code",
   "execution_count": 11,
   "metadata": {},
   "outputs": [
    {
     "name": "stdout",
     "output_type": "stream",
     "text": [
      "Time using .replace(): 0.0060045719146728516 sec\n"
     ]
    }
   ],
   "source": [
    "start_time = time.time()\n",
    "\n",
    "# Replace all the entries that has 'FEMALE' as a gender with 'GIRL'\n",
    "names['Gender'].replace('FEMALE', 'GIRL', inplace=True)\n",
    "\n",
    "print(\"Time using .replace(): {} sec\".format(time.time() - start_time))"
   ]
  },
  {
   "attachments": {},
   "cell_type": "markdown",
   "metadata": {},
   "source": [
    "**Question: Which of the two methods presented in the previous exercises is the most efficient when replacing a scalar value?** Using .replace() was faster."
   ]
  },
  {
   "attachments": {},
   "cell_type": "markdown",
   "metadata": {},
   "source": [
    "**Replace multiple values I**\n",
    "\n",
    "In this exercise, you will apply the .replace() function for the task of replacing multiple values with one or more values. You will again use the names dataset which contains, among others, the most popular names in the US by year, gender and Ethnicity.\n",
    "\n",
    "Thus you want to replace all ethnicities classified as black or white non-hispanics to non-hispanic. Remember, the ethnicities are stated in the dataset as follows: ['BLACK NON HISP', 'BLACK NON HISPANIC', 'WHITE NON HISP' , 'WHITE NON HISPANIC'] and should be replaced to 'NON HISPANIC'\n",
    "\n",
    "    · Replace all the ethnicities that are not Hispanic in the dataset to 'NON HISPANIC' using the.loc()` indexer."
   ]
  },
  {
   "cell_type": "code",
   "execution_count": 15,
   "metadata": {},
   "outputs": [
    {
     "name": "stdout",
     "output_type": "stream",
     "text": [
      "Time using .loc[]: sec\n"
     ]
    }
   ],
   "source": [
    "start_time = time.time()\n",
    "\n",
    "# Replace all non-Hispanic ethnicities with 'NON HISPANIC'\n",
    "names['Ethnicity'].loc[(names[\"Ethnicity\"] == 'BLACK NON HISP') | \n",
    "                      (names[\"Ethnicity\"] == 'BLACK NON HISPANIC') | \n",
    "                      (names[\"Ethnicity\"] == 'WHITE NON HISP') | \n",
    "                      (names[\"Ethnicity\"] == 'WHITE NON HISPANIC')] = 'NON HISPANIC'\n",
    "\n",
    "print(\"Time using .loc[]: sec\".format(time.time() - start_time))"
   ]
  },
  {
   "attachments": {},
   "cell_type": "markdown",
   "metadata": {},
   "source": [
    "    · Replace all the ethnicities that are not Hispanic in the dataset to 'NON HISPANIC' using the .replace() function."
   ]
  },
  {
   "cell_type": "code",
   "execution_count": 16,
   "metadata": {},
   "outputs": [
    {
     "name": "stdout",
     "output_type": "stream",
     "text": [
      "Time using .replace(): 0.016257286071777344 sec\n"
     ]
    }
   ],
   "source": [
    "start_time = time.time()\n",
    "\n",
    "# Replace all non-Hispanic ethnicities with 'NON HISPANIC'\n",
    "names['Ethnicity'].replace(['BLACK NON HISP', 'BLACK NON HISPANIC', 'WHITE NON HISP', 'WHITE NON HISPANIC'], 'NON HISPANIC', inplace=True)\n",
    "\n",
    "print(\"Time using .replace(): {} sec\".format(time.time() - start_time))"
   ]
  },
  {
   "attachments": {},
   "cell_type": "markdown",
   "metadata": {},
   "source": [
    "**Replace multiple values II**\n",
    "\n",
    "As discussed in the video, instead of using the .replace() function multiple times to replace multiple values, you can use lists to map the elements you want to replace one to one with those you want to replace them with.\n",
    "\n",
    "As you have seen in our popular names dataset, there are two names for the same ethnicity. We want to standardize the naming of each ethnicity by replacing\n",
    "\n",
    "    · 'ASIAN AND PACI' to 'ASIAN AND PACIFIC ISLANDER';\n",
    "    · 'BLACK NON HISP' to 'BLACK NON HISPANIC';\n",
    "    · 'WHITE NON HISP' to 'WHITE NON HISPANIC'.\n",
    "\n",
    "In the DataFrame names, you are going to replace all the values on the left by the values on the right.\n",
    "\n",
    "    · Replace all the ethnicities by their respective alternative, as indicated above."
   ]
  },
  {
   "cell_type": "code",
   "execution_count": 17,
   "metadata": {},
   "outputs": [
    {
     "name": "stdout",
     "output_type": "stream",
     "text": [
      "Time using .replace(): 0.008049964904785156 sec\n"
     ]
    }
   ],
   "source": [
    "start_time = time.time()\n",
    "\n",
    "# Replace ethnicities as instructed\n",
    "names['Ethnicity'].replace(['ASIAN AND PACI','BLACK NON HISP', 'WHITE NON HISP'], ['ASIAN AND PACIFIC ISLANDER','BLACK NON HISPANIC','WHITE NON HISPANIC'], inplace=True)\n",
    "\n",
    "print(\"Time using .replace(): {} sec\".format(time.time() - start_time))"
   ]
  },
  {
   "attachments": {},
   "cell_type": "markdown",
   "metadata": {},
   "source": [
    "**Replace single values II**\n",
    "\n",
    "For this exercise, we will be using the names DataFrame. In this dataset, the column 'Rank' shows the ranking of each name by year. For this exercise, you will use dictionaries to replace the first ranked name of every year as 'FIRST', the second name as 'SECOND' and the third name as 'THIRD'.\n",
    "\n",
    "You will use dictionaries to replace one single value per key.\n",
    "\n",
    "You can already see the first 5 names of the data, which correspond to the 5 most popular names for all the females belonging to the 'ASIAN AND PACIFIC ISLANDER' ethnicity in 2011.\n",
    "\n",
    "    · Replace the ranks, indicated in numbers, by strings, following the pattern given above. Don't hesitate to explore your dataset in the Console after replacing values to see how it changed."
   ]
  },
  {
   "cell_type": "code",
   "execution_count": 16,
   "metadata": {},
   "outputs": [
    {
     "name": "stdout",
     "output_type": "stream",
     "text": [
      "  Child's First Name    Rank\n",
      "0             SOPHIA   FIRST\n",
      "1              CHLOE  SECOND\n",
      "2              EMILY   THIRD\n",
      "3             OLIVIA       4\n",
      "4               EMMA       5\n"
     ]
    }
   ],
   "source": [
    "# Replace the number rank by a string\n",
    "names['Rank'].replace({1: 'FIRST', 2: 'SECOND', 3: 'THIRD'}, inplace=True)\n",
    "print(names[['Child\\'s First Name', 'Rank']].head())"
   ]
  },
  {
   "attachments": {},
   "cell_type": "markdown",
   "metadata": {},
   "source": [
    "**Replace multiple values III**\n",
    "\n",
    "As you saw in the video, you can use dictionaries to replace multiple values with just one value, even from multiple columns. To show the usefulness of replacing with dictionaries, you will use the names dataset one more time.\n",
    "\n",
    "In this dataset, the column 'Rank' shows which rank each name reached every year. You will change the rank of the first three ranked names of every year to 'MEDAL' and those from 4th and 5th place to 'ALMOST MEDAL'.\n",
    "\n",
    "You can already see the first 5 names of the data, which correspond to the 5 most popular names for all the females belonging to the 'ASIAN AND PACIFIC ISLANDER' ethnicity in 2011.\n",
    "\n",
    "    · Replace the first three ranked names of every year to 'MEDAL';\n",
    "    · Replace the fourth and fifth ranked names of every year to 'ALMOST MEDAL'."
   ]
  },
  {
   "cell_type": "code",
   "execution_count": 18,
   "metadata": {},
   "outputs": [
    {
     "name": "stdout",
     "output_type": "stream",
     "text": [
      "  Child's First Name          Rank\n",
      "0             SOPHIA         FIRST\n",
      "1              CHLOE        SECOND\n",
      "2              EMILY         THIRD\n",
      "3             OLIVIA  ALMOST MEDAL\n",
      "4               EMMA  ALMOST MEDAL\n"
     ]
    }
   ],
   "source": [
    "# Replace the rank of the first three ranked names to 'MEDAL'\n",
    "names.replace({'Rank': {1:'MEDAL', 2:'MEDAL', 3:'MEDAL'}}, inplace=True)\n",
    "\n",
    "# Replace the rank of the 4th and 5th ranked names to 'ALMOST MEDAL'\n",
    "names.replace({'Rank': {4:'ALMOST MEDAL', 5:'ALMOST MEDAL'}}, inplace=True)\n",
    "print(names[['Child\\'s First Name', 'Rank']].head())"
   ]
  },
  {
   "attachments": {},
   "cell_type": "markdown",
   "metadata": {},
   "source": [
    "**Question: If you want to replace a scalar value with another scalar value, which technique is the most efficient??** Replace using dictionaries."
   ]
  },
  {
   "attachments": {},
   "cell_type": "markdown",
   "metadata": {},
   "source": [
    "**Create a generator for a pandas DataFrame**\n",
    "\n",
    "As you've seen in the video, you can easily create a generator out of a pandas DataFrame. Each time you iterate through it, it will yield two elements:\n",
    "\n",
    "     · the index of the respective row;\n",
    "     · a pandas Series with all the elements of that row.\n",
    "\n",
    "You are going to create a generator over the poker dataset, imported as poker_hands. Then, you will print all the elements of the 2nd row, using the generator.\n",
    "\n",
    "     · Assign a generator over the rows of the data dataset on the variable generator;\n",
    "     · Print all the elements of the 2nd element of the created generator."
   ]
  },
  {
   "cell_type": "code",
   "execution_count": 4,
   "metadata": {},
   "outputs": [
    {
     "name": "stdout",
     "output_type": "stream",
     "text": [
      "(0, S1        1\n",
      "R1       10\n",
      "S2        1\n",
      "R2       11\n",
      "S3        1\n",
      "R3       13\n",
      "S4        1\n",
      "R4       12\n",
      "S5        1\n",
      "R5        1\n",
      "Class     9\n",
      "Name: 0, dtype: int64) (1, S1        2\n",
      "R1       11\n",
      "S2        2\n",
      "R2       13\n",
      "S3        2\n",
      "R3       10\n",
      "S4        2\n",
      "R4       12\n",
      "S5        2\n",
      "R5        1\n",
      "Class     9\n",
      "Name: 1, dtype: int64)\n"
     ]
    }
   ],
   "source": [
    "# Create a generator over the rows\n",
    "generator = poker_hands.iterrows()\n",
    "\n",
    "# Access the elements of the 2nd row\n",
    "first_element = next(generator)\n",
    "second_element = next(generator)\n",
    "print(first_element, second_element)"
   ]
  },
  {
   "attachments": {},
   "cell_type": "markdown",
   "metadata": {},
   "source": [
    "**The iterrows() function for looping**\n",
    "\n",
    "You just saw how to create a generator out of a pandas DataFrame. You will now use this generator and see how to take advantage of that method of looping through a pandas DataFrame, still using the poker_hands dataset.\n",
    "\n",
    "Specifically, we want the sum of the ranks of all the cards, if the index of the hand is an odd number. The ranks of the cards are located in the odd columns of the DataFrame.\n",
    "\n",
    "     · Check if the hand index is an odd number;\n",
    "     ·     If it is, calculate the sum of the rank of all the cards in that hand. It could take a little longer than usual to compute the results."
   ]
  },
  {
   "cell_type": "code",
   "execution_count": 5,
   "metadata": {},
   "outputs": [],
   "source": [
    "data_generator = poker_hands.iterrows()\n",
    "\n",
    "for index, values in data_generator:\n",
    "  \t# Check if index is odd\n",
    "    if index % 2 != 0:\n",
    "      \t# Sum the ranks of all the cards\n",
    "        hand_sum = sum([values[1], values[3], values[5], values[7], values[9]])"
   ]
  },
  {
   "attachments": {},
   "cell_type": "markdown",
   "metadata": {},
   "source": [
    "**.apply() function in every cell**\n",
    "\n",
    "As you saw in the lesson, you can use .apply() to map a function to every cell of the DataFrame, regardless the column or the row.\n",
    "\n",
    "You're going to try it out on the poker_hands dataset. You will use .apply() to square every cell of the DataFrame. The native Python way to square a number n is n**2.\n",
    "\n",
    "     · Define the lambda transformation for the square;\n",
    "     · Apply the transformation using the .apply() function."
   ]
  },
  {
   "cell_type": "code",
   "execution_count": 6,
   "metadata": {},
   "outputs": [
    {
     "name": "stdout",
     "output_type": "stream",
     "text": [
      "   S1   R1  S2   R2  S3   R3  S4   R4  S5   R5  Class\n",
      "0   1  100   1  121   1  169   1  144   1    1     81\n",
      "1   4  121   4  169   4  100   4  144   4    1     81\n",
      "2   9  144   9  121   9  169   9  100   9    1     81\n",
      "3  16  100  16  121  16    1  16  169  16  144     81\n",
      "4  16    1  16  169  16  144  16  121  16  100     81\n"
     ]
    }
   ],
   "source": [
    "# Define the lambda transformation\n",
    "get_square = lambda x: x ** 2\n",
    "\n",
    "# Apply the transformation\n",
    "data_sum = poker_hands.apply(get_square)\n",
    "print(data_sum.head())"
   ]
  },
  {
   "attachments": {},
   "cell_type": "markdown",
   "metadata": {},
   "source": [
    "**.apply() for rows iteration**\n",
    "\n",
    ".apply() is a very useful to iterate through the rows of a DataFrame and apply a specific function.\n",
    "\n",
    "You will work on a subset of the poker_hands dataset, which includes only the rank of all the five cards of each hand in each row (this subset is generated for you in the script). You're going to get the variance of every hand for all ranks, and every rank for all hands.\n",
    "\n",
    "    · Define a lambda function to return the variance, using the numpy package;\n",
    "    · Apply the transformation for every row."
   ]
  },
  {
   "cell_type": "code",
   "execution_count": 8,
   "metadata": {},
   "outputs": [
    {
     "name": "stdout",
     "output_type": "stream",
     "text": [
      "0    18.64\n",
      "1    18.64\n",
      "2    18.64\n",
      "3    18.64\n",
      "4    18.64\n",
      "dtype: float64\n"
     ]
    }
   ],
   "source": [
    "# Define the lambda transformation\n",
    "get_variance = lambda x: np.var(x)\n",
    "\n",
    "# Apply the transformation\n",
    "data_tr = poker_hands[['R1', 'R2', 'R3', 'R4', 'R5']].apply(get_variance, axis = 1)\n",
    "print(data_tr.head())"
   ]
  },
  {
   "attachments": {},
   "cell_type": "markdown",
   "metadata": {},
   "source": [
    "     · Modify the script to apply the function on every rank. "
   ]
  },
  {
   "cell_type": "code",
   "execution_count": 8,
   "metadata": {},
   "outputs": [
    {
     "name": "stdout",
     "output_type": "stream",
     "text": [
      "R1    14.060473\n",
      "R2    14.189523\n",
      "R3    14.024270\n",
      "R4    14.040552\n",
      "R5    13.998851\n",
      "dtype: float64\n"
     ]
    }
   ],
   "source": [
    "get_variance = lambda x: np.var(x)\n",
    "\n",
    "# Apply the transformation\n",
    "data_tr = poker_hands[['R1', 'R2', 'R3', 'R4', 'R5']].apply(get_variance, axis=0)\n",
    "print(data_tr.head())"
   ]
  },
  {
   "attachments": {},
   "cell_type": "markdown",
   "metadata": {},
   "source": [
    "**Question: As you probably noticed in this lesson, we achieved a massive improvement using some form of vectorization. Where does this improvement come from?** Fewer operations are required due to optimization in pandas."
   ]
  },
  {
   "attachments": {},
   "cell_type": "markdown",
   "metadata": {},
   "source": [
    "**pandas vectorization in action**\n",
    "\n",
    "In this exercise, you will apply vectorization over pandas series to:\n",
    "\n",
    "     · calculate the mean rank of all the cards in each hand (row);\n",
    "     · calculate the mean rank of each of the 5 cards in each hand (column).\n",
    "\n",
    "You will use the poker_hands dataset once again to compare both methods' efficiency.\n",
    "\n",
    "     · Calculate the mean rank in each hand;\n",
    "     · Calculate the mean rank of each of the 5 card in all hands."
   ]
  },
  {
   "cell_type": "code",
   "execution_count": 9,
   "metadata": {},
   "outputs": [
    {
     "name": "stdout",
     "output_type": "stream",
     "text": [
      "Time using pandas vectorization for rows: 0.0023796558380126953 sec\n",
      "0    9.4\n",
      "1    9.4\n",
      "2    9.4\n",
      "3    9.4\n",
      "4    9.4\n",
      "dtype: float64\n",
      "Time using pandas vectorization for columns: 0.007166624069213867 sec\n",
      "R1    6.995242\n",
      "R2    7.014194\n",
      "R3    7.014154\n",
      "R4    6.942463\n",
      "R5    6.962735\n",
      "dtype: float64\n"
     ]
    }
   ],
   "source": [
    "# Calculate the mean rank in each hand\n",
    "row_start_time = time.time()\n",
    "mean_r = poker_hands[['R1', 'R2', 'R3', 'R4', 'R5']].mean(axis=1)\n",
    "print(\"Time using pandas vectorization for rows: {} sec\".format(time.time() - row_start_time))\n",
    "print(mean_r.head())\n",
    "\n",
    "# Calculate the mean rank of each of the 5 card in all hands\n",
    "col_start_time = time.time()\n",
    "mean_c = poker_hands[['R1', 'R2', 'R3', 'R4', 'R5']].mean(axis=0)\n",
    "print(\"Time using pandas vectorization for columns: {} sec\".format(time.time() - col_start_time))\n",
    "print(mean_c.head())"
   ]
  },
  {
   "attachments": {},
   "cell_type": "markdown",
   "metadata": {},
   "source": [
    "**Question: Best method of vectorization**\n",
    "\n",
    "**So far, you have encountered two vectorization methods:**\n",
    "\n",
    "     · Vectorization over pandas Series\n",
    "     · Vectorization over Numpy ndarrays\n",
    "\n",
    "**While these two methods outperform all the other methods, when can vectorization over NumPy ndarrays be used to replace vectorization over pandas Series?**  When operations like indexing or data type are not used."
   ]
  },
  {
   "attachments": {},
   "cell_type": "markdown",
   "metadata": {},
   "source": [
    "**Vectorization methods for looping a DataFrame**\n",
    "\n",
    "Now that you're familiar with vectorization in pandas and NumPy, you're going to compare their respective performances yourself.\n",
    "\n",
    "Your task is to calculate the variance of all the hands in each hand using the vectorization over pandas Series and then modify your code using the vectorization over Numpy ndarrays method.\n",
    "\n",
    "     · Calculate the variance of the ranks of all the cards in each hand using vectorization with pandas."
   ]
  },
  {
   "cell_type": "code",
   "execution_count": 10,
   "metadata": {},
   "outputs": [
    {
     "name": "stdout",
     "output_type": "stream",
     "text": [
      "Time using pandas vectorization: 0.011959552764892578 sec\n",
      "0    23.3\n",
      "1    23.3\n",
      "2    23.3\n",
      "3    23.3\n",
      "4    23.3\n",
      "dtype: float64\n"
     ]
    }
   ],
   "source": [
    "# Calculate the variance in each hand\n",
    "start_time = time.time()\n",
    "poker_var = poker_hands[['R1', 'R2', 'R3', 'R4', 'R5']].var(axis=1)\n",
    "print(\"Time using pandas vectorization: {} sec\".format(time.time() - start_time))\n",
    "print(poker_var.head())"
   ]
  },
  {
   "attachments": {},
   "cell_type": "markdown",
   "metadata": {},
   "source": [
    "     · Calculate the variance of the ranks of all the cards in each hand using vectorization with NumPy."
   ]
  },
  {
   "cell_type": "code",
   "execution_count": 11,
   "metadata": {},
   "outputs": [
    {
     "name": "stdout",
     "output_type": "stream",
     "text": [
      "Time using NumPy vectorization: 0.010140180587768555 sec\n",
      "[23.3 23.3 23.3 23.3 23.3]\n"
     ]
    }
   ],
   "source": [
    "# Calculate the variance in each hand\n",
    "start_time = time.time()\n",
    "poker_var = poker_hands[['R1', 'R2', 'R3', 'R4', 'R5']].values.var(axis=1, ddof=1)\n",
    "print(\"Time using NumPy vectorization: {} sec\".format(time.time() - start_time))\n",
    "print(poker_var[0:5])"
   ]
  }
 ],
 "metadata": {
  "kernelspec": {
   "display_name": "Python 3",
   "language": "python",
   "name": "python3"
  },
  "language_info": {
   "codemirror_mode": {
    "name": "ipython",
    "version": 3
   },
   "file_extension": ".py",
   "mimetype": "text/x-python",
   "name": "python",
   "nbconvert_exporter": "python",
   "pygments_lexer": "ipython3",
   "version": "3.10.10"
  },
  "orig_nbformat": 4,
  "vscode": {
   "interpreter": {
    "hash": "32f44e5226166f64a99f12abc75713261d80cda518a4c0307f40d5fa964d05f6"
   }
  }
 },
 "nbformat": 4,
 "nbformat_minor": 2
}
